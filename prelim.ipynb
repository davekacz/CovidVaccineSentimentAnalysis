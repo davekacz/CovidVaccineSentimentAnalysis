{
 "metadata": {
  "language_info": {
   "codemirror_mode": {
    "name": "ipython",
    "version": 3
   },
   "file_extension": ".py",
   "mimetype": "text/x-python",
   "name": "python",
   "nbconvert_exporter": "python",
   "pygments_lexer": "ipython3",
   "version": "3.7.7-final"
  },
  "orig_nbformat": 2,
  "kernelspec": {
   "name": "python377jvsc74a57bd0b2e62736b6f5842b2875a283fc0c8b118c4e724b66a11220d55555d5078ee572",
   "display_name": "Python 3.7.7 64-bit ('ISYE6501': conda)"
  }
 },
 "nbformat": 4,
 "nbformat_minor": 2,
 "cells": [
  {
   "cell_type": "code",
   "execution_count": 1,
   "metadata": {},
   "outputs": [],
   "source": [
    "import pandas as pd\n",
    "import numpy as numpy\n",
    "\n",
    "df = pd.read_csv('vaccination_all_tweets.csv')"
   ]
  },
  {
   "cell_type": "code",
   "execution_count": 2,
   "metadata": {},
   "outputs": [
    {
     "output_type": "execute_result",
     "data": {
      "text/plain": [
       "                        id                   user_name  \\\n",
       "0      1340539111971516416                  Rachel Roh   \n",
       "1      1338158543359250433                 Albert Fong   \n",
       "2      1337858199140118533                    eli🇱🇹🇪🇺👌   \n",
       "3      1337855739918835717               Charles Adler   \n",
       "4      1337854064604966912        Citizen News Channel   \n",
       "...                    ...                         ...   \n",
       "46054  1376080077054746624         Consumer Grassroots   \n",
       "46055  1376073682381107201             Michael Muchiri   \n",
       "46056  1376068500360470529             Michael Muchiri   \n",
       "46057  1376058766454624261  Stankevicius International   \n",
       "46058  1376057426793861122                Firras Jabar   \n",
       "\n",
       "                   user_location  \\\n",
       "0      La Crescenta-Montrose, CA   \n",
       "1              San Francisco, CA   \n",
       "2                       Your Bed   \n",
       "3         Vancouver, BC - Canada   \n",
       "4                            NaN   \n",
       "...                          ...   \n",
       "46054                      Kenya   \n",
       "46055                    Nairobi   \n",
       "46056                    Nairobi   \n",
       "46057            Dublin, Ireland   \n",
       "46058                       Iraq   \n",
       "\n",
       "                                        user_description         user_created  \\\n",
       "0      Aggregator of Asian American news; scanning di...  2009-04-08 17:52:46   \n",
       "1      Marketing dude, tech geek, heavy metal & '80s ...  2009-09-21 15:27:30   \n",
       "2                                         heil, hydra 🖐☺  2020-06-25 23:30:28   \n",
       "3      Hosting \"CharlesAdlerTonight\" Global News Radi...  2008-09-10 11:28:53   \n",
       "4      Citizen News Channel bringing you an alternati...  2020-04-23 17:58:42   \n",
       "...                                                  ...                  ...   \n",
       "46054  Official Account for Consumer Grassroots Assoc...  2016-11-30 08:14:19   \n",
       "46055  Civil Engineer working in Kenya. With a Passio...  2011-01-31 17:39:38   \n",
       "46056  Civil Engineer working in Kenya. With a Passio...  2011-01-31 17:39:38   \n",
       "46057  Professional trading consultant specializing i...  2020-06-30 12:31:42   \n",
       "46058                                                NaN  2018-10-29 13:16:05   \n",
       "\n",
       "       user_followers  user_friends  user_favourites  user_verified  \\\n",
       "0                 405          1692             3247          False   \n",
       "1                 834           666              178          False   \n",
       "2                  10            88              155          False   \n",
       "3               49165          3933            21853           True   \n",
       "4                 152           580             1473          False   \n",
       "...               ...           ...              ...            ...   \n",
       "46054           23021           447            19882           True   \n",
       "46055            1595          3515             6795          False   \n",
       "46056            1595          3515             6795          False   \n",
       "46057              16             3                0          False   \n",
       "46058              45           205             4492          False   \n",
       "\n",
       "                      date                                               text  \\\n",
       "0      2020-12-20 06:06:44  Same folks said daikon paste could treat a cyt...   \n",
       "1      2020-12-13 16:27:13  While the world has been on the wrong side of ...   \n",
       "2      2020-12-12 20:33:45  #coronavirus #SputnikV #AstraZeneca #PfizerBio...   \n",
       "3      2020-12-12 20:23:59  Facts are immutable, Senator, even when you're...   \n",
       "4      2020-12-12 20:17:19  Explain to me again why we need a vaccine @Bor...   \n",
       "...                    ...                                                ...   \n",
       "46054  2021-03-28 07:53:51  Russian Covid-19 vaccine #SputnikV now in Keny...   \n",
       "46055  2021-03-28 07:28:26  Communique on COVID19 Lockdown Effects on USIU...   \n",
       "46056  2021-03-28 07:07:51  Mask is worn on the face, for protection, disg...   \n",
       "46057  2021-03-28 06:29:10  Selling: #NitrileGloves, #1860 #FaceMasks, #Va...   \n",
       "46058  2021-03-28 06:23:51  #Novartis. #Pfizer #vaccine #VaccinePassports ...   \n",
       "\n",
       "                                                hashtags               source  \\\n",
       "0                                     ['PfizerBioNTech']  Twitter for Android   \n",
       "1                                                    NaN      Twitter Web App   \n",
       "2      ['coronavirus', 'SputnikV', 'AstraZeneca', 'Pf...  Twitter for Android   \n",
       "3                                                    NaN      Twitter Web App   \n",
       "4         ['whereareallthesickpeople', 'PfizerBioNTech']   Twitter for iPhone   \n",
       "...                                                  ...                  ...   \n",
       "46054                                       ['SputnikV']      Twitter Web App   \n",
       "46055                                                NaN  Twitter for Android   \n",
       "46056                                                NaN  Twitter for Android   \n",
       "46057  ['NitrileGloves', 'FaceMasks', 'Vaccines', 'Sp...                IFTTT   \n",
       "46058  ['Novartis', 'Pfizer', 'vaccine', 'VaccinePass...  Twitter for Android   \n",
       "\n",
       "       retweets  favorites  is_retweet  \n",
       "0             0          0       False  \n",
       "1             1          1       False  \n",
       "2             0          0       False  \n",
       "3           446       2129       False  \n",
       "4             0          0       False  \n",
       "...         ...        ...         ...  \n",
       "46054         1          2       False  \n",
       "46055         0          0       False  \n",
       "46056         0          0       False  \n",
       "46057         0          1       False  \n",
       "46058         0          0       False  \n",
       "\n",
       "[46059 rows x 16 columns]"
      ],
      "text/html": "<div>\n<style scoped>\n    .dataframe tbody tr th:only-of-type {\n        vertical-align: middle;\n    }\n\n    .dataframe tbody tr th {\n        vertical-align: top;\n    }\n\n    .dataframe thead th {\n        text-align: right;\n    }\n</style>\n<table border=\"1\" class=\"dataframe\">\n  <thead>\n    <tr style=\"text-align: right;\">\n      <th></th>\n      <th>id</th>\n      <th>user_name</th>\n      <th>user_location</th>\n      <th>user_description</th>\n      <th>user_created</th>\n      <th>user_followers</th>\n      <th>user_friends</th>\n      <th>user_favourites</th>\n      <th>user_verified</th>\n      <th>date</th>\n      <th>text</th>\n      <th>hashtags</th>\n      <th>source</th>\n      <th>retweets</th>\n      <th>favorites</th>\n      <th>is_retweet</th>\n    </tr>\n  </thead>\n  <tbody>\n    <tr>\n      <th>0</th>\n      <td>1340539111971516416</td>\n      <td>Rachel Roh</td>\n      <td>La Crescenta-Montrose, CA</td>\n      <td>Aggregator of Asian American news; scanning di...</td>\n      <td>2009-04-08 17:52:46</td>\n      <td>405</td>\n      <td>1692</td>\n      <td>3247</td>\n      <td>False</td>\n      <td>2020-12-20 06:06:44</td>\n      <td>Same folks said daikon paste could treat a cyt...</td>\n      <td>['PfizerBioNTech']</td>\n      <td>Twitter for Android</td>\n      <td>0</td>\n      <td>0</td>\n      <td>False</td>\n    </tr>\n    <tr>\n      <th>1</th>\n      <td>1338158543359250433</td>\n      <td>Albert Fong</td>\n      <td>San Francisco, CA</td>\n      <td>Marketing dude, tech geek, heavy metal &amp; '80s ...</td>\n      <td>2009-09-21 15:27:30</td>\n      <td>834</td>\n      <td>666</td>\n      <td>178</td>\n      <td>False</td>\n      <td>2020-12-13 16:27:13</td>\n      <td>While the world has been on the wrong side of ...</td>\n      <td>NaN</td>\n      <td>Twitter Web App</td>\n      <td>1</td>\n      <td>1</td>\n      <td>False</td>\n    </tr>\n    <tr>\n      <th>2</th>\n      <td>1337858199140118533</td>\n      <td>eli🇱🇹🇪🇺👌</td>\n      <td>Your Bed</td>\n      <td>heil, hydra 🖐☺</td>\n      <td>2020-06-25 23:30:28</td>\n      <td>10</td>\n      <td>88</td>\n      <td>155</td>\n      <td>False</td>\n      <td>2020-12-12 20:33:45</td>\n      <td>#coronavirus #SputnikV #AstraZeneca #PfizerBio...</td>\n      <td>['coronavirus', 'SputnikV', 'AstraZeneca', 'Pf...</td>\n      <td>Twitter for Android</td>\n      <td>0</td>\n      <td>0</td>\n      <td>False</td>\n    </tr>\n    <tr>\n      <th>3</th>\n      <td>1337855739918835717</td>\n      <td>Charles Adler</td>\n      <td>Vancouver, BC - Canada</td>\n      <td>Hosting \"CharlesAdlerTonight\" Global News Radi...</td>\n      <td>2008-09-10 11:28:53</td>\n      <td>49165</td>\n      <td>3933</td>\n      <td>21853</td>\n      <td>True</td>\n      <td>2020-12-12 20:23:59</td>\n      <td>Facts are immutable, Senator, even when you're...</td>\n      <td>NaN</td>\n      <td>Twitter Web App</td>\n      <td>446</td>\n      <td>2129</td>\n      <td>False</td>\n    </tr>\n    <tr>\n      <th>4</th>\n      <td>1337854064604966912</td>\n      <td>Citizen News Channel</td>\n      <td>NaN</td>\n      <td>Citizen News Channel bringing you an alternati...</td>\n      <td>2020-04-23 17:58:42</td>\n      <td>152</td>\n      <td>580</td>\n      <td>1473</td>\n      <td>False</td>\n      <td>2020-12-12 20:17:19</td>\n      <td>Explain to me again why we need a vaccine @Bor...</td>\n      <td>['whereareallthesickpeople', 'PfizerBioNTech']</td>\n      <td>Twitter for iPhone</td>\n      <td>0</td>\n      <td>0</td>\n      <td>False</td>\n    </tr>\n    <tr>\n      <th>...</th>\n      <td>...</td>\n      <td>...</td>\n      <td>...</td>\n      <td>...</td>\n      <td>...</td>\n      <td>...</td>\n      <td>...</td>\n      <td>...</td>\n      <td>...</td>\n      <td>...</td>\n      <td>...</td>\n      <td>...</td>\n      <td>...</td>\n      <td>...</td>\n      <td>...</td>\n      <td>...</td>\n    </tr>\n    <tr>\n      <th>46054</th>\n      <td>1376080077054746624</td>\n      <td>Consumer Grassroots</td>\n      <td>Kenya</td>\n      <td>Official Account for Consumer Grassroots Assoc...</td>\n      <td>2016-11-30 08:14:19</td>\n      <td>23021</td>\n      <td>447</td>\n      <td>19882</td>\n      <td>True</td>\n      <td>2021-03-28 07:53:51</td>\n      <td>Russian Covid-19 vaccine #SputnikV now in Keny...</td>\n      <td>['SputnikV']</td>\n      <td>Twitter Web App</td>\n      <td>1</td>\n      <td>2</td>\n      <td>False</td>\n    </tr>\n    <tr>\n      <th>46055</th>\n      <td>1376073682381107201</td>\n      <td>Michael Muchiri</td>\n      <td>Nairobi</td>\n      <td>Civil Engineer working in Kenya. With a Passio...</td>\n      <td>2011-01-31 17:39:38</td>\n      <td>1595</td>\n      <td>3515</td>\n      <td>6795</td>\n      <td>False</td>\n      <td>2021-03-28 07:28:26</td>\n      <td>Communique on COVID19 Lockdown Effects on USIU...</td>\n      <td>NaN</td>\n      <td>Twitter for Android</td>\n      <td>0</td>\n      <td>0</td>\n      <td>False</td>\n    </tr>\n    <tr>\n      <th>46056</th>\n      <td>1376068500360470529</td>\n      <td>Michael Muchiri</td>\n      <td>Nairobi</td>\n      <td>Civil Engineer working in Kenya. With a Passio...</td>\n      <td>2011-01-31 17:39:38</td>\n      <td>1595</td>\n      <td>3515</td>\n      <td>6795</td>\n      <td>False</td>\n      <td>2021-03-28 07:07:51</td>\n      <td>Mask is worn on the face, for protection, disg...</td>\n      <td>NaN</td>\n      <td>Twitter for Android</td>\n      <td>0</td>\n      <td>0</td>\n      <td>False</td>\n    </tr>\n    <tr>\n      <th>46057</th>\n      <td>1376058766454624261</td>\n      <td>Stankevicius International</td>\n      <td>Dublin, Ireland</td>\n      <td>Professional trading consultant specializing i...</td>\n      <td>2020-06-30 12:31:42</td>\n      <td>16</td>\n      <td>3</td>\n      <td>0</td>\n      <td>False</td>\n      <td>2021-03-28 06:29:10</td>\n      <td>Selling: #NitrileGloves, #1860 #FaceMasks, #Va...</td>\n      <td>['NitrileGloves', 'FaceMasks', 'Vaccines', 'Sp...</td>\n      <td>IFTTT</td>\n      <td>0</td>\n      <td>1</td>\n      <td>False</td>\n    </tr>\n    <tr>\n      <th>46058</th>\n      <td>1376057426793861122</td>\n      <td>Firras Jabar</td>\n      <td>Iraq</td>\n      <td>NaN</td>\n      <td>2018-10-29 13:16:05</td>\n      <td>45</td>\n      <td>205</td>\n      <td>4492</td>\n      <td>False</td>\n      <td>2021-03-28 06:23:51</td>\n      <td>#Novartis. #Pfizer #vaccine #VaccinePassports ...</td>\n      <td>['Novartis', 'Pfizer', 'vaccine', 'VaccinePass...</td>\n      <td>Twitter for Android</td>\n      <td>0</td>\n      <td>0</td>\n      <td>False</td>\n    </tr>\n  </tbody>\n</table>\n<p>46059 rows × 16 columns</p>\n</div>"
     },
     "metadata": {},
     "execution_count": 2
    }
   ],
   "source": [
    "df\n"
   ]
  },
  {
   "cell_type": "code",
   "execution_count": null,
   "metadata": {},
   "outputs": [],
   "source": []
  }
 ]
}